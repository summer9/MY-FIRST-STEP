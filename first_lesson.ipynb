{
  "nbformat": 4,
  "nbformat_minor": 0,
  "metadata": {
    "colab": {
      "name": "first lesson.ipynb",
      "provenance": [],
      "authorship_tag": "ABX9TyO2hF5MeWqEFZQdiCbpvscx",
      "include_colab_link": true
    },
    "kernelspec": {
      "name": "python3",
      "display_name": "Python 3"
    },
    "language_info": {
      "name": "python"
    }
  },
  "cells": [
    {
      "cell_type": "markdown",
      "metadata": {
        "id": "view-in-github",
        "colab_type": "text"
      },
      "source": [
        "<a href=\"https://colab.research.google.com/github/summer9/MY-FIRST-STEP/blob/main/first_lesson.ipynb\" target=\"_parent\"><img src=\"https://colab.research.google.com/assets/colab-badge.svg\" alt=\"Open In Colab\"/></a>"
      ]
    },
    {
      "cell_type": "code",
      "metadata": {
        "id": "AJtmhfvHVtVy",
        "colab": {
          "base_uri": "https://localhost:8080/"
        },
        "outputId": "6f4e42a2-3008-49e8-b872-63dbc0c71079"
      },
      "source": [
        "print(\"pythonbasic-your first program\")"
      ],
      "execution_count": null,
      "outputs": [
        {
          "output_type": "stream",
          "text": [
            "pythonbasic-your first program\n"
          ],
          "name": "stdout"
        }
      ]
    },
    {
      "cell_type": "code",
      "metadata": {
        "colab": {
          "base_uri": "https://localhost:8080/"
        },
        "id": "qbih-PXEZz9n",
        "outputId": "86b569b2-5871-4a5b-f417-18bf4dd2405e"
      },
      "source": [
        "print(\"Flow control: a short program: Rocks, papers, scisors\")"
      ],
      "execution_count": null,
      "outputs": [
        {
          "output_type": "stream",
          "text": [
            "Flow control: a short program: Rocks, papers, scisors\n"
          ],
          "name": "stdout"
        }
      ]
    },
    {
      "cell_type": "markdown",
      "metadata": {
        "id": "OtPsEInTZ04d"
      },
      "source": [
        ""
      ]
    },
    {
      "cell_type": "code",
      "metadata": {
        "colab": {
          "base_uri": "https://localhost:8080/"
        },
        "id": "0PyxKVKTZ1ih",
        "outputId": "aac2dacf-d484-4d98-8706-c2e3db77ed19"
      },
      "source": [
        "print(\"Fuction: a short program: Zigzag\")"
      ],
      "execution_count": null,
      "outputs": [
        {
          "output_type": "stream",
          "text": [
            "Fuction: a short program: Zigzag\n"
          ],
          "name": "stdout"
        }
      ]
    },
    {
      "cell_type": "code",
      "metadata": {
        "colab": {
          "base_uri": "https://localhost:8080/"
        },
        "id": "8sD1DaVpaiKP",
        "outputId": "ced6e333-7fb7-4633-8107-65986eefc1ba"
      },
      "source": [
        "print(\"List: a short program: Conway's game of life\")"
      ],
      "execution_count": null,
      "outputs": [
        {
          "output_type": "stream",
          "text": [
            "List: a short program: Conway's game of life\n"
          ],
          "name": "stdout"
        }
      ]
    },
    {
      "cell_type": "code",
      "metadata": {
        "colab": {
          "base_uri": "https://localhost:8080/"
        },
        "id": "sbtSTE3ha02d",
        "outputId": "450930e6-dd7b-47d5-8574-3a37bb1a3c6c"
      },
      "source": [
        "print(\"Dictionary & Structuring data - Tic-tac-toe Board\")"
      ],
      "execution_count": null,
      "outputs": [
        {
          "output_type": "stream",
          "text": [
            "Dictionary & Structuring data - Tic-tac-toe Board\n"
          ],
          "name": "stdout"
        }
      ]
    },
    {
      "cell_type": "markdown",
      "metadata": {
        "id": "H3FdwXLTcniT"
      },
      "source": [
        "# New Section"
      ]
    },
    {
      "cell_type": "code",
      "metadata": {
        "colab": {
          "base_uri": "https://localhost:8080/"
        },
        "id": "kI8IZGHRgcNl",
        "outputId": "5ddafb89-2816-4d9a-fb72-48db539ad12d"
      },
      "source": [
        "# this program says hello and asks for my name\n",
        "\n",
        "print('hello world!')\n",
        "print('what is your name?')  # ask for their name\n"
      ],
      "execution_count": 5,
      "outputs": [
        {
          "output_type": "stream",
          "name": "stdout",
          "text": [
            "hello world!\n",
            "what is your name?\n"
          ]
        }
      ]
    },
    {
      "cell_type": "code",
      "metadata": {
        "colab": {
          "base_uri": "https://localhost:8080/"
        },
        "id": "ATaxW_YUhbqZ",
        "outputId": "8b6895e6-ead2-4429-f26e-d49aeabbc5c2"
      },
      "source": [
        "myName=input()\n",
        "print('It is good to meet you,' + myName)\n",
        "print('the name of your name is')\n",
        "print(len(myName))"
      ],
      "execution_count": 5,
      "outputs": [
        {
          "output_type": "stream",
          "name": "stdout",
          "text": [
            "Phuong\n",
            "It is good to meet you,Phuong\n",
            "the name of your name is\n",
            "6\n"
          ]
        }
      ]
    },
    {
      "cell_type": "markdown",
      "metadata": {
        "id": "ur_RT6dZbKU0"
      },
      "source": [
        "myName=input()\n",
        "print('It is good to meet you,' +  myName)\n",
        "\n",
        "print('the length of your name is:')\n",
        "print(len(myName))\n",
        "print('What is your age?') # ask for their age\n",
        "myAge=input()\n",
        "print('you will be' + str(int(myAge) + 1 ))\n",
        "\n"
      ]
    },
    {
      "cell_type": "markdown",
      "metadata": {
        "id": "NDlJQYDjKzf_"
      },
      "source": [
        ""
      ]
    },
    {
      "cell_type": "code",
      "metadata": {
        "colab": {
          "base_uri": "https://localhost:8080/"
        },
        "id": "fybMweZbIkU2",
        "outputId": "9b53a889-21fe-4537-868f-c2364990e384"
      },
      "source": [
        "myName=input() \n",
        "print('It is good to meet you,' + myName)\n",
        "\n",
        "print('The length of your name is:') \n",
        "print(len(myName))\n",
        "print('What is your age?') # ask for their age\n",
        "myAge=input() \n",
        "print('you will be' + str(int(myAge) + 1) +'next year')\n",
        "# neu cho + 1 khong dong ngoac thi se khong chay duoc\n",
        "# ??? lam sao de cach dong "
      ],
      "execution_count": 32,
      "outputs": [
        {
          "output_type": "stream",
          "name": "stdout",
          "text": [
            "35\n",
            "It is good to meet you,35\n",
            "The length of your name is:\n",
            "2\n",
            "What is your age?\n",
            "35\n",
            "you will be36next year\n"
          ]
        }
      ]
    },
    {
      "cell_type": "code",
      "metadata": {
        "colab": {
          "base_uri": "https://localhost:8080/",
          "height": 131
        },
        "id": "Ue_imjN4ELuO",
        "outputId": "1ad42295-5a25-49f2-eca2-18bd26aa4db2"
      },
      "source": [
        "print('what is your age?')\n",
        "myAge=input()\n",
        "print('Your age next year will be' + str(int(myAge) + 1) # khong chay duoc do thieu dau ngoac ngay so 1, xem code tren\n",
        "      # dau ngoac khong dat dung cho la sai, nen phai dem tong dau ngoac khi dong lai\n",
        "      # vi la dang cong str voi nhau nen phai bien so tuoi thanh tring\n"
      ],
      "execution_count": 23,
      "outputs": [
        {
          "output_type": "error",
          "ename": "SyntaxError",
          "evalue": "ignored",
          "traceback": [
            "\u001b[0;36m  File \u001b[0;32m\"<ipython-input-23-4e83281c72de>\"\u001b[0;36m, line \u001b[0;32m3\u001b[0m\n\u001b[0;31m    print('Your age next year will be' + str(int(myAge) + 1)\u001b[0m\n\u001b[0m                                                            ^\u001b[0m\n\u001b[0;31mSyntaxError\u001b[0m\u001b[0;31m:\u001b[0m unexpected EOF while parsing\n"
          ]
        }
      ]
    },
    {
      "cell_type": "markdown",
      "metadata": {
        "id": "J-M-rjhoFfUQ"
      },
      "source": [
        ""
      ]
    }
  ]
}