{
  "nbformat": 4,
  "nbformat_minor": 0,
  "metadata": {
    "colab": {
      "name": "first lesson.ipynb",
      "provenance": [],
      "authorship_tag": "ABX9TyNKO+VYxJazkOYTibQj55rF",
      "include_colab_link": true
    },
    "kernelspec": {
      "name": "python3",
      "display_name": "Python 3"
    },
    "language_info": {
      "name": "python"
    }
  },
  "cells": [
    {
      "cell_type": "markdown",
      "metadata": {
        "id": "view-in-github",
        "colab_type": "text"
      },
      "source": [
        "<a href=\"https://colab.research.google.com/github/summer9/MY-FIRST-STEP/blob/main/first_lesson.ipynb\" target=\"_parent\"><img src=\"https://colab.research.google.com/assets/colab-badge.svg\" alt=\"Open In Colab\"/></a>"
      ]
    },
    {
      "cell_type": "code",
      "metadata": {
        "id": "AJtmhfvHVtVy",
        "colab": {
          "base_uri": "https://localhost:8080/"
        },
        "outputId": "6f4e42a2-3008-49e8-b872-63dbc0c71079"
      },
      "source": [
        "print(\"pythonbasic-your first program\")"
      ],
      "execution_count": 6,
      "outputs": [
        {
          "output_type": "stream",
          "text": [
            "pythonbasic-your first program\n"
          ],
          "name": "stdout"
        }
      ]
    },
    {
      "cell_type": "code",
      "metadata": {
        "colab": {
          "base_uri": "https://localhost:8080/"
        },
        "id": "qbih-PXEZz9n",
        "outputId": "86b569b2-5871-4a5b-f417-18bf4dd2405e"
      },
      "source": [
        "print(\"Flow control: a short program: Rocks, papers, scisors\")"
      ],
      "execution_count": 7,
      "outputs": [
        {
          "output_type": "stream",
          "text": [
            "Flow control: a short program: Rocks, papers, scisors\n"
          ],
          "name": "stdout"
        }
      ]
    },
    {
      "cell_type": "markdown",
      "metadata": {
        "id": "OtPsEInTZ04d"
      },
      "source": [
        ""
      ]
    },
    {
      "cell_type": "code",
      "metadata": {
        "colab": {
          "base_uri": "https://localhost:8080/"
        },
        "id": "0PyxKVKTZ1ih",
        "outputId": "aac2dacf-d484-4d98-8706-c2e3db77ed19"
      },
      "source": [
        "print(\"Fuction: a short program: Zigzag\")"
      ],
      "execution_count": 8,
      "outputs": [
        {
          "output_type": "stream",
          "text": [
            "Fuction: a short program: Zigzag\n"
          ],
          "name": "stdout"
        }
      ]
    },
    {
      "cell_type": "code",
      "metadata": {
        "colab": {
          "base_uri": "https://localhost:8080/"
        },
        "id": "8sD1DaVpaiKP",
        "outputId": "ced6e333-7fb7-4633-8107-65986eefc1ba"
      },
      "source": [
        "print(\"List: a short program: Conway's game of life\")"
      ],
      "execution_count": 9,
      "outputs": [
        {
          "output_type": "stream",
          "text": [
            "List: a short program: Conway's game of life\n"
          ],
          "name": "stdout"
        }
      ]
    },
    {
      "cell_type": "code",
      "metadata": {
        "colab": {
          "base_uri": "https://localhost:8080/"
        },
        "id": "sbtSTE3ha02d",
        "outputId": "450930e6-dd7b-47d5-8574-3a37bb1a3c6c"
      },
      "source": [
        "print(\"Dictionary & Structuring data - Tic-tac-toe Board\")"
      ],
      "execution_count": 10,
      "outputs": [
        {
          "output_type": "stream",
          "text": [
            "Dictionary & Structuring data - Tic-tac-toe Board\n"
          ],
          "name": "stdout"
        }
      ]
    },
    {
      "cell_type": "markdown",
      "metadata": {
        "id": "H3FdwXLTcniT"
      },
      "source": [
        "# New Section"
      ]
    },
    {
      "cell_type": "code",
      "metadata": {
        "id": "ur_RT6dZbKU0"
      },
      "source": [
        ""
      ],
      "execution_count": 10,
      "outputs": []
    }
  ]
}